{
  "nbformat": 4,
  "nbformat_minor": 0,
  "metadata": {
    "colab": {
      "name": "Untitled0.ipynb",
      "provenance": [],
      "collapsed_sections": [],
      "include_colab_link": true
    },
    "kernelspec": {
      "name": "python3",
      "display_name": "Python 3"
    },
    "language_info": {
      "name": "python"
    }
  },
  "cells": [
    {
      "cell_type": "markdown",
      "metadata": {
        "id": "view-in-github",
        "colab_type": "text"
      },
      "source": [
        "<a href=\"https://colab.research.google.com/github/ValeriaEsLaMejor/python/blob/main/Untitled0.ipynb\" target=\"_parent\"><img src=\"https://colab.research.google.com/assets/colab-badge.svg\" alt=\"Open In Colab\"/></a>"
      ]
    },
    {
      "cell_type": "code",
      "metadata": {
        "colab": {
          "base_uri": "https://localhost:8080/"
        },
        "id": "QbWJn99O3CYW",
        "outputId": "e98870de-d8fc-4cae-c2c6-e94bcead5c6d"
      },
      "source": [
        "archivo = open('palabras500.csv', encoding=\"utf-8\")\n",
        "lineas = archivo.readlines()\n",
        "archivo.close()\n",
        "\n",
        "len(lineas)\n",
        "print(lineas)"
      ],
      "execution_count": null,
      "outputs": [
        {
          "output_type": "stream",
          "name": "stdout",
          "text": [
            "['de\\n', 'la\\n', 'que\\n', 'el\\n', 'y\\n', 'en\\n', 'a\\n', 'los\\n', 'del\\n', 'se\\n', 'las\\n', 'por\\n', 'un\\n', 'con\\n', 'para\\n', 'no\\n', 'una\\n', 'es\\n', 'su\\n', 'al\\n', 'lo\\n', 'como\\n', 'más\\n', 'o\\n', 'este\\n', 'pero\\n', 'sus\\n', 'esta\\n', 'si\\n', 'ha\\n', 'me\\n', 'ya\\n', 'le\\n', 'son\\n', 'sobre\\n', 'entre\\n', 'ser\\n', 'fue\\n', 'sin\\n', 'todo\\n', 'también\\n', 'desde\\n', 'cuando\\n', 'muy\\n', 'a?os\\n', 'está\\n', 'todos\\n', 'hay\\n', 'tiene\\n', 'nos\\n', 'porque\\n', 'dos\\n', 'hasta\\n', 'donde\\n', 'parte\\n', 'así\\n', 'han\\n', 'puede\\n', 'mi\\n', 'a?o\\n', 'cada\\n', 'uno\\n', 'vez\\n', 'bien\\n', 'hace\\n', 'trabajo\\n', 'nacional\\n', 'estado\\n', 'otros\\n', 'gobierno\\n', 'eso\\n', 'tiempo\\n', 'además\\n', 'mismo\\n', 'ese\\n', 'hacer\\n', 'país\\n', 'yo\\n', 'durante\\n', 'te\\n', 'día\\n', 'tanto\\n', 'vida\\n', 'esto\\n', 'forma\\n', 'estos\\n', 'sólo\\n', 'personas\\n', 'ni\\n', 'otro\\n', 'ahora\\n', 'hoy\\n', 'era\\n', 'caso\\n', 'están\\n', 'les\\n', 'mejor\\n', 'lugar\\n', 'qué\\n', 'quien\\n', 'cual\\n', 'esa\\n', 'ciudad\\n', 'general\\n', 'mundo\\n', 'siempre\\n', 'menos\\n', 'desarrollo\\n', 'contra\\n', 'cuenta\\n', 'tres\\n', 'ver\\n', 'más\\n', 'mayor\\n', 'otra\\n', 'mucho\\n', 'dijo\\n', 'tienen\\n', 'sido\\n', 'presidente\\n', 'ante\\n', 'según\\n', 'tener\\n', 'primera\\n', 'sea\\n', 'debe\\n', 'después\\n', 'aunque\\n', 'ley\\n', 'sistema\\n', 'manera\\n', 'solo\\n', 'poder\\n', 'nuevo\\n', 'ellos\\n', 'todas\\n', 'social\\n', 'información\\n', 'momento\\n', 'sino\\n', 'nuestro\\n', 'otras\\n', 'antes\\n', 'luego\\n', 'estas\\n', 'tu\\n', 'algo\\n', 'había\\n', 'días\\n', 'nuestra\\n', 'primer\\n', 'nada\\n', 'hecho\\n', 'poco\\n', 'pueden\\n', 'proyecto\\n', 'será\\n', 'va\\n', 'grupo\\n', 'fueron\\n', 'través\\n', 'algunos\\n', 'tan\\n', 'tipo\\n', 'medio\\n', 'gente\\n', 'decir\\n', 'equipo\\n', 'nueva\\n', 'importante\\n', 'san\\n', 'toda\\n', 'mientras\\n', 'pues\\n', 'centro\\n', 'acuerdo\\n', 'programa\\n', 'salud\\n', 'pasado\\n', 'empresa\\n', 'muchos\\n', 'fin\\n', 'dentro\\n', 'nivel\\n', 'partido\\n', 'servicios\\n', 'casa\\n', 'educación\\n', 'servicio\\n', 'seguridad\\n', 'proceso\\n', 'horas\\n', 'él\\n', 'política\\n', 'tal\\n', 'artículo\\n', 'universidad\\n', 'historia\\n', 'cosas\\n', 'cualquier\\n', 'sí\\n', 'unos\\n', 'hacia\\n', 'misma\\n', 'estar\\n', 'ello\\n', 'tema\\n', 'cómo\\n', 'empresas\\n', 'gracias\\n', 'calidad\\n', 'quienes\\n', 'embargo\\n', 'público\\n', 'frente\\n', 'agua\\n', 'situación\\n', 'ella\\n', 'sociedad\\n', 'creo\\n', 'nosotros\\n', 'final\\n', 'muchas\\n', 'méxico\\n', 'derecho\\n', 'zona\\n', 'argentina\\n', 'bajo\\n', 'estamos\\n', 'respecto\\n', 'entonces\\n', 'sector\\n', 'ejemplo\\n', 'estaba\\n', 'tras\\n', 'semana\\n', 'personal\\n', 'casi\\n', 'tenemos\\n', 'recursos\\n', 'diferentes\\n', 'dice\\n', 'veces\\n', 'punto\\n', 'estados\\n', 'uso\\n', 'actividades\\n', 'partir\\n', 'haber\\n', 'dar\\n', 'relación\\n', 'internacional\\n', 'número\\n', 'meses\\n', 'ni?os\\n', 'parece\\n', 'aún\\n', 'derechos\\n', 'datos\\n', 'aquí\\n', 'grandes\\n', 'nunca\\n', 'problemas\\n', 'mercado\\n', 'países\\n', 'cambio\\n', 'nombre\\n', 'he\\n', 'persona\\n', 'nuestros\\n', 'segundo\\n', 'hizo\\n', 'sentido\\n', 'cuatro\\n', 'fecha\\n', 'da\\n', 'posible\\n', 'comunidad\\n', 'mujeres\\n', 'lado\\n', 'obra\\n', 'familia\\n', 'junto\\n', 'director\\n', 'problema\\n', 'condiciones\\n', 'total\\n', 'actividad\\n', 'falta\\n', 'buena\\n', 'tengo\\n', 'investigación\\n', 'algunas\\n', 'bueno\\n', 'espa?a\\n', 'productos\\n', 'producción\\n', 'último\\n', 'presente\\n', 'casos\\n', 'comisión\\n', 'pública\\n', 'fuera\\n', 'igual\\n', 'atención\\n', 'van\\n', 'realidad\\n', 'objetivo\\n', 'estudio\\n', 'mediante\\n', 'control\\n', 'verdad\\n', 'provincia\\n', 'puntos\\n', 'pueblo\\n', 'buenos\\n', 'sociales\\n', 'hemos\\n', 'experiencia\\n', 'apoyo\\n', 'hombre\\n', 'varios\\n', 'medios\\n', 'resultados\\n', 'obras\\n', 'local\\n', 'chile\\n', 'dirección\\n', 'realizar\\n', 'deben\\n', 'base\\n', 'mes\\n', 'cuanto\\n', 'gestión\\n', 'trata\\n', 'buen\\n', 'municipal\\n', 'siendo\\n', 'julio\\n', 'alguna\\n', 'unidos\\n', 'trabajadores\\n', 'ayer\\n', 'proyectos\\n', 'incluso\\n', 'cultura\\n', 'esos\\n', 'ma?ana\\n', 'llegar\\n', 'dicho\\n', 'región\\n', 'segunda\\n', 'población\\n', 'plan\\n', 'paso\\n', 'mundial\\n', 'conocer\\n', 'participación\\n', 'estoy\\n', 'jóvenes\\n', 'mujer\\n', 'cargo\\n', 'primero\\n', 'administración\\n', 'nuevos\\n', 'hora\\n', 'cuales\\n', 'ciento\\n', 'comunicación\\n', 'especial\\n', 'claro\\n', 'pesos\\n', 'espacio\\n', 'estudios\\n', 'dios\\n', 'nuevas\\n', 'juego\\n', 'mal\\n', 'encuentra\\n', 'cinco\\n', 'mis\\n', 'capital\\n', 'valor\\n', 'seguir\\n', 'autoridades\\n', 'podría\\n', 'justicia\\n', 'escuela\\n', 'tuvo\\n', 'mayoría\\n', 'área\\n', 'saber\\n', 'luis\\n', 'organización\\n', 'cuerpo\\n', 'ministerio\\n', 'acción\\n', 'diciembre\\n', 'largo\\n', 'nadie\\n', 'formación\\n', 'encuentro\\n', 'ir\\n', 'consejo\\n', 'actual\\n', 'construcción\\n', 'vamos\\n', 'necesario\\n', 'capacidad\\n', 'acciones\\n', 'noche\\n', 'hacen\\n', 'ex\\n', 'cabo\\n', 'estudiantes\\n', 'idea\\n', 'minutos\\n', 'debido\\n', 'mayo\\n', 'orden\\n', 'campo\\n', 'octubre\\n', 'haya\\n', 'presencia\\n', 'tarde\\n', 'modo\\n', 'permite\\n', 'podemos\\n', 'red\\n', 'temas\\n', 'edad\\n', 'tenía\\n', 'últimos\\n', 'federal\\n', 'anterior\\n', 'respuesta\\n', 'internet\\n', 'ahí\\n', 'puesto\\n', 'cantidad\\n', 'usted\\n', 'real\\n', 'serie\\n', 'existe\\n', 'próximo\\n', 'dinero\\n', 'dio\\n', 'principal\\n', 'sería\\n', 'materia\\n', 'libro\\n', 'acceso\\n', 'marco\\n', 'maría\\n', 'alto\\n', 'noviembre\\n', 'calle\\n', 'siguiente\\n', 'central\\n', 'alumnos\\n', 'web\\n', 'algún\\n', 'posibilidad\\n', 'modelo\\n', 'grupos\\n', 'medida\\n', 'soy\\n', 'quiere\\n', 'cierto\\n', 'futuro\\n', 'análisis\\n', 'mano\\n', 'humanos\\n', 'instituto\\n', 'superior\\n', 'propio\\n', 'se?or\\n', 'santa\\n', 'favor\\n', 'municipio\\n', 'cerca\\n', 'tierra\\n', 'políticas\\n', 'programas\\n', 'ambiente\\n', 'oportunidad\\n', 'domingo\\n', 'economía\\n', 'crisis\\n', 'marzo\\n', 'mejores\\n', 'interés\\n', 'etc.\\n', 'conocimiento\\n', 'sigue\\n', 'necesidad\\n', 'haciendo\\n', 'cosa\\n', 'unas\\n', 'serán\\n']\n"
          ]
        }
      ]
    },
    {
      "cell_type": "markdown",
      "metadata": {
        "id": "PiWgysbeDEbA"
      },
      "source": [
        "# Nueva sección"
      ]
    },
    {
      "cell_type": "code",
      "metadata": {
        "colab": {
          "base_uri": "https://localhost:8080/",
          "height": 35
        },
        "id": "RedMR0VI5iC9",
        "outputId": "95771815-222b-4c44-de8f-21f7a10746b5"
      },
      "source": [
        "lineas[0]\n"
      ],
      "execution_count": null,
      "outputs": [
        {
          "output_type": "execute_result",
          "data": {
            "application/vnd.google.colaboratory.intrinsic+json": {
              "type": "string"
            },
            "text/plain": [
              "'de\\n'"
            ]
          },
          "metadata": {},
          "execution_count": 2
        }
      ]
    },
    {
      "cell_type": "code",
      "metadata": {
        "colab": {
          "base_uri": "https://localhost:8080/",
          "height": 35
        },
        "id": "0R8unW4R5pb0",
        "outputId": "003dd44d-6d4d-4671-f9c4-d44a8416c222"
      },
      "source": [
        "lineas[1]"
      ],
      "execution_count": null,
      "outputs": [
        {
          "output_type": "execute_result",
          "data": {
            "application/vnd.google.colaboratory.intrinsic+json": {
              "type": "string"
            },
            "text/plain": [
              "'la\\n'"
            ]
          },
          "metadata": {},
          "execution_count": 3
        }
      ]
    },
    {
      "cell_type": "code",
      "metadata": {
        "colab": {
          "base_uri": "https://localhost:8080/"
        },
        "id": "l6_gXeIh5vri",
        "outputId": "860578c6-d967-48b2-80ab-93f01a974664"
      },
      "source": [
        "palabra = input('Escriba una palabra: ')\n",
        "if palabra+ '\\n' in lineas:\n",
        "  print('Si es de las más 500 comunes')\n",
        "else:\n",
        "  print('No es de las más 500 comunes')"
      ],
      "execution_count": null,
      "outputs": [
        {
          "output_type": "stream",
          "name": "stdout",
          "text": [
            "Escriba una palabra: la\n",
            "Si es de las más 500 comunes\n"
          ]
        }
      ]
    },
    {
      "cell_type": "code",
      "metadata": {
        "colab": {
          "base_uri": "https://localhost:8080/",
          "height": 163
        },
        "id": "y50sIkabBQwt",
        "outputId": "7c275e92-e180-45a6-f2ea-8ebbc5bfd285"
      },
      "source": [
        ""
      ],
      "execution_count": null,
      "outputs": [
        {
          "output_type": "error",
          "ename": "NameError",
          "evalue": "ignored",
          "traceback": [
            "\u001b[0;31m---------------------------------------------------------------------------\u001b[0m",
            "\u001b[0;31mNameError\u001b[0m                                 Traceback (most recent call last)",
            "\u001b[0;32m<ipython-input-1-012ce2ecf2e5>\u001b[0m in \u001b[0;36m<module>\u001b[0;34m()\u001b[0m\n\u001b[0;32m----> 1\u001b[0;31m \u001b[0mprint\u001b[0m\u001b[0;34m(\u001b[0m\u001b[0mlineas\u001b[0m\u001b[0;34m)\u001b[0m\u001b[0;34m\u001b[0m\u001b[0;34m\u001b[0m\u001b[0m\n\u001b[0m",
            "\u001b[0;31mNameError\u001b[0m: name 'lineas' is not defined"
          ]
        }
      ]
    },
    {
      "cell_type": "code",
      "metadata": {
        "colab": {
          "base_uri": "https://localhost:8080/"
        },
        "id": "ZJcg4Neb69SD",
        "outputId": "bcd8b48b-0e7c-41d7-f646-5d967cbcbcac"
      },
      "source": [
        "def rima(word,palabra):\n",
        "  lista = []\n",
        "  for i in word:\n",
        "    if i.replace(\"\\n\", \"\").endswith(palabra):\n",
        "      lista.append(i.replace(\"\\n\", \"\"))\n",
        "  print(lista)\n",
        "\n",
        "rima(lineas,\"n\")"
      ],
      "execution_count": 22,
      "outputs": [
        {
          "output_type": "stream",
          "name": "stdout",
          "text": [
            "['en', 'un', 'con', 'son', 'sin', 'también', 'han', 'bien', 'están', 'quien', 'tienen', 'según', 'información', 'pueden', 'fueron', 'tan', 'san', 'fin', 'educación', 'situación', 'relación', 'aún', 'investigación', 'producción', 'comisión', 'atención', 'van', 'dirección', 'deben', 'gestión', 'buen', 'región', 'población', 'plan', 'participación', 'administración', 'comunicación', 'organización', 'acción', 'formación', 'construcción', 'hacen', 'orden', 'algún', 'serán']\n"
          ]
        }
      ]
    }
  ]
}