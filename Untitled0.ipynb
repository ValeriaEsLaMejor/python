{
  "nbformat": 4,
  "nbformat_minor": 0,
  "metadata": {
    "colab": {
      "name": "Untitled0.ipynb",
      "provenance": [],
      "collapsed_sections": [],
      "include_colab_link": true
    },
    "kernelspec": {
      "name": "python3",
      "display_name": "Python 3"
    },
    "language_info": {
      "name": "python"
    }
  },
  "cells": [
    {
      "cell_type": "markdown",
      "metadata": {
        "id": "view-in-github",
        "colab_type": "text"
      },
      "source": [
        "<a href=\"https://colab.research.google.com/github/ValeriaEsLaMejor/python/blob/main/Untitled0.ipynb\" target=\"_parent\"><img src=\"https://colab.research.google.com/assets/colab-badge.svg\" alt=\"Open In Colab\"/></a>"
      ]
    },
    {
      "cell_type": "code",
      "metadata": {
        "colab": {
          "base_uri": "https://localhost:8080/"
        },
        "id": "QbWJn99O3CYW",
        "outputId": "2692296f-9c7b-48b1-aae9-1a2556fb183d"
      },
      "source": [
        "archivo = open('palabras500.csv', encoding=\"utf-8\")\n",
        "lineas = archivo.readlines()\n",
        "archivo.close()\n",
        "\n",
        "len(lineas)"
      ],
      "execution_count": 25,
      "outputs": [
        {
          "output_type": "execute_result",
          "data": {
            "text/plain": [
              "500"
            ]
          },
          "metadata": {},
          "execution_count": 25
        }
      ]
    },
    {
      "cell_type": "markdown",
      "metadata": {
        "id": "PiWgysbeDEbA"
      },
      "source": [
        "# Nueva sección"
      ]
    },
    {
      "cell_type": "code",
      "metadata": {
        "colab": {
          "base_uri": "https://localhost:8080/",
          "height": 35
        },
        "id": "RedMR0VI5iC9",
        "outputId": "95771815-222b-4c44-de8f-21f7a10746b5"
      },
      "source": [
        "lineas[0]\n"
      ],
      "execution_count": null,
      "outputs": [
        {
          "output_type": "execute_result",
          "data": {
            "application/vnd.google.colaboratory.intrinsic+json": {
              "type": "string"
            },
            "text/plain": [
              "'de\\n'"
            ]
          },
          "metadata": {},
          "execution_count": 2
        }
      ]
    },
    {
      "cell_type": "code",
      "metadata": {
        "colab": {
          "base_uri": "https://localhost:8080/",
          "height": 35
        },
        "id": "0R8unW4R5pb0",
        "outputId": "003dd44d-6d4d-4671-f9c4-d44a8416c222"
      },
      "source": [
        "lineas[1]"
      ],
      "execution_count": null,
      "outputs": [
        {
          "output_type": "execute_result",
          "data": {
            "application/vnd.google.colaboratory.intrinsic+json": {
              "type": "string"
            },
            "text/plain": [
              "'la\\n'"
            ]
          },
          "metadata": {},
          "execution_count": 3
        }
      ]
    },
    {
      "cell_type": "code",
      "metadata": {
        "colab": {
          "base_uri": "https://localhost:8080/"
        },
        "id": "l6_gXeIh5vri",
        "outputId": "860578c6-d967-48b2-80ab-93f01a974664"
      },
      "source": [
        "palabra = input('Escriba una palabra: ')\n",
        "if palabra+ '\\n' in lineas:\n",
        "  print('Si es de las más 500 comunes')\n",
        "else:\n",
        "  print('No es de las más 500 comunes')"
      ],
      "execution_count": null,
      "outputs": [
        {
          "output_type": "stream",
          "name": "stdout",
          "text": [
            "Escriba una palabra: la\n",
            "Si es de las más 500 comunes\n"
          ]
        }
      ]
    },
    {
      "cell_type": "code",
      "metadata": {
        "colab": {
          "base_uri": "https://localhost:8080/"
        },
        "id": "ZJcg4Neb69SD",
        "outputId": "c6d591ac-70b8-4e6c-dfb7-3587540a928b"
      },
      "source": [
        "def rima(word,palabra):\n",
        "  lista = []\n",
        "  for i in word:\n",
        "    if i.replace(\"\\n\", \"\").endswith(palabra):\n",
        "      lista.append(i.replace(\"\\n\", \"\"))\n",
        "  print(lista)\n",
        "\n",
        "rima(lineas,\"an\")"
      ],
      "execution_count": 26,
      "outputs": [
        {
          "output_type": "stream",
          "name": "stdout",
          "text": [
            "['han', 'tan', 'san', 'van', 'plan']\n"
          ]
        }
      ]
    }
  ]
}